{
 "cells": [
  {
   "cell_type": "code",
   "execution_count": 1,
   "id": "a7ba40ce-8983-467a-97b9-41d6085f8464",
   "metadata": {},
   "outputs": [],
   "source": [
    "import numpy as np\n",
    "import pandas as pd\n",
    "import warnings\n",
    "warnings.filterwarnings('ignore')"
   ]
  },
  {
   "cell_type": "code",
   "execution_count": 2,
   "id": "cabdaa58-43bd-48e9-8cf1-b7fff0d08303",
   "metadata": {},
   "outputs": [],
   "source": [
    "df = pd.read_csv('cleaned_data')"
   ]
  },
  {
   "cell_type": "code",
   "execution_count": 3,
   "id": "1a76653b-a14a-4cfd-aff2-b07f8a400db4",
   "metadata": {},
   "outputs": [],
   "source": [
    "X=df.drop(columns='Loan_Status')\n",
    "y=df['Loan_Status']"
   ]
  },
  {
   "cell_type": "code",
   "execution_count": 4,
   "id": "10b449f3-7e9b-4574-9e1e-2ce51e6135bf",
   "metadata": {},
   "outputs": [],
   "source": [
    "from sklearn.model_selection import train_test_split as tc\n",
    "x_train,x_test,y_train,y_test = tc(X,y,test_size=0.20,random_state=54)"
   ]
  },
  {
   "cell_type": "code",
   "execution_count": 5,
   "id": "c2732cdb-0d2b-41d0-830e-136368128adb",
   "metadata": {},
   "outputs": [
    {
     "data": {
      "text/plain": [
       "Loan_Status\n",
       "0    48952\n",
       "1     5018\n",
       "Name: count, dtype: int64"
      ]
     },
     "execution_count": 5,
     "metadata": {},
     "output_type": "execute_result"
    }
   ],
   "source": [
    "y_train.value_counts() #Checking balance or imbalance data"
   ]
  },
  {
   "cell_type": "code",
   "execution_count": 6,
   "id": "64ff92f7-71f8-4565-9c6e-a6cefc34ea8f",
   "metadata": {},
   "outputs": [
    {
     "data": {
      "text/plain": [
       "Loan_Status\n",
       "0    12270\n",
       "1     1223\n",
       "Name: count, dtype: int64"
      ]
     },
     "execution_count": 6,
     "metadata": {},
     "output_type": "execute_result"
    }
   ],
   "source": [
    "y_test.value_counts() #Checking balance or imbalance data"
   ]
  },
  {
   "cell_type": "code",
   "execution_count": 7,
   "id": "6bb71b8b-51b3-4452-b92c-d6a79fa8233c",
   "metadata": {},
   "outputs": [
    {
     "name": "stdout",
     "output_type": "stream",
     "text": [
      "Best k: {'n_neighbors': 8}\n"
     ]
    }
   ],
   "source": [
    "from sklearn.neighbors import KNeighborsClassifier\n",
    "from sklearn.model_selection import GridSearchCV\n",
    "from sklearn.metrics import accuracy_score\n",
    "estimator = KNeighborsClassifier()\n",
    "param_grid = {'n_neighbors' : list(range(1,10))}\n",
    "gscv = GridSearchCV(estimator,param_grid,cv=5,scoring = 'accuracy')\n",
    "\n",
    "gscv.fit(x_train,y_train)\n",
    "print(\"Best k:\", gscv.best_params_)"
   ]
  },
  {
   "cell_type": "code",
   "execution_count": 8,
   "id": "1b52dc7a-ffef-49a7-9718-ff829970772a",
   "metadata": {},
   "outputs": [
    {
     "name": "stdout",
     "output_type": "stream",
     "text": [
      "train accuracy : 0.9070409486751899\n",
      "test accuracy : 0.9090639590898985\n",
      "cv score : 0.9067259588660367\n"
     ]
    }
   ],
   "source": [
    "#modeling\n",
    "model = KNeighborsClassifier(n_neighbors = 8)\n",
    "model.fit(x_train,y_train)\n",
    "\n",
    "#predection\n",
    "x_train_pred = model.predict(x_train)\n",
    "x_test_pred = model.predict(x_test)\n",
    "\n",
    "#evolution\n",
    "print('train accuracy :', accuracy_score(y_train, x_train_pred))\n",
    "print('test accuracy :', accuracy_score(y_test, x_test_pred))\n",
    "\n",
    "from sklearn.model_selection import cross_val_score\n",
    "print('cv score :',cross_val_score(model,x_train,y_train,cv=5,scoring='accuracy').mean())"
   ]
  },
  {
   "cell_type": "code",
   "execution_count": 9,
   "id": "c9961744-2066-40b7-9c18-ff3818df712b",
   "metadata": {},
   "outputs": [],
   "source": [
    "#12 train accuracy : 0.9070038910505837\n",
    "# test accuracy : 0.9093604091010153\n",
    "# cv score : 0.9070224198628868\n",
    "\n",
    "#20 train accuracy : 0.9070224198628868\n",
    "# test accuracy : 0.9093604091010153\n",
    "#cv score : 0.9070224198628868\n"
   ]
  }
 ],
 "metadata": {
  "kernelspec": {
   "display_name": "Python [conda env:base] *",
   "language": "python",
   "name": "conda-base-py"
  },
  "language_info": {
   "codemirror_mode": {
    "name": "ipython",
    "version": 3
   },
   "file_extension": ".py",
   "mimetype": "text/x-python",
   "name": "python",
   "nbconvert_exporter": "python",
   "pygments_lexer": "ipython3",
   "version": "3.12.7"
  }
 },
 "nbformat": 4,
 "nbformat_minor": 5
}
