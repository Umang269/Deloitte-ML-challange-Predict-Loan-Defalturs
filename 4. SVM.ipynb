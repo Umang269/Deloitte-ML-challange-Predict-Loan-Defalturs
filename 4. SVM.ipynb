{
 "cells": [
  {
   "cell_type": "code",
   "execution_count": 1,
   "id": "a7ba40ce-8983-467a-97b9-41d6085f8464",
   "metadata": {},
   "outputs": [],
   "source": [
    "import numpy as np\n",
    "import pandas as pd\n",
    "import warnings\n",
    "warnings.filterwarnings('ignore')"
   ]
  },
  {
   "cell_type": "code",
   "execution_count": 2,
   "id": "cabdaa58-43bd-48e9-8cf1-b7fff0d08303",
   "metadata": {},
   "outputs": [],
   "source": [
    "df = pd.read_csv('cleaned_data')"
   ]
  },
  {
   "cell_type": "code",
   "execution_count": 3,
   "id": "1a76653b-a14a-4cfd-aff2-b07f8a400db4",
   "metadata": {},
   "outputs": [],
   "source": [
    "X=df.drop(columns='Loan_Status')\n",
    "y=df['Loan_Status']"
   ]
  },
  {
   "cell_type": "code",
   "execution_count": 4,
   "id": "10b449f3-7e9b-4574-9e1e-2ce51e6135bf",
   "metadata": {},
   "outputs": [],
   "source": [
    "from sklearn.model_selection import train_test_split as tc\n",
    "x_train,x_test,y_train,y_test = tc(X,y,test_size=0.20,random_state=54)"
   ]
  },
  {
   "cell_type": "code",
   "execution_count": 5,
   "id": "c2732cdb-0d2b-41d0-830e-136368128adb",
   "metadata": {},
   "outputs": [
    {
     "data": {
      "text/plain": [
       "Loan_Status\n",
       "0    48952\n",
       "1     5018\n",
       "Name: count, dtype: int64"
      ]
     },
     "execution_count": 5,
     "metadata": {},
     "output_type": "execute_result"
    }
   ],
   "source": [
    "y_train.value_counts() #Checking balance or imbalance data"
   ]
  },
  {
   "cell_type": "code",
   "execution_count": null,
   "id": "14d6290f-c620-4f88-a695-53dc4c489b17",
   "metadata": {},
   "outputs": [],
   "source": [
    "from sklearn.svm import SVC\n",
    "from sklearn.model_selection import GridSearchCV\n",
    "estimator = SVC()\n",
    "param_grid = {\"C\":[0.01,0.1,1,10,12,15],'kernel':['linear','rbf','poly','sigmoid']}\n",
    "gscv = GridSearchCV(estimator,param_grid,cv=5,scoring='accuracy')\n",
    "gscv.fit(x_train,y_train)\n",
    "print(\"Best k:\", gscv.best_params_)"
   ]
  },
  {
   "cell_type": "code",
   "execution_count": null,
   "id": "1b52dc7a-ffef-49a7-9718-ff829970772a",
   "metadata": {},
   "outputs": [],
   "source": [
    "from sklearn.svm import SVC\n",
    "from sklearn.metrics import accuracy_score\n",
    "\n",
    "#modeling\n",
    "model = SVC(C=1.0,kernel='linear')\n",
    "model.fit(x_train,y_train)\n",
    "\n",
    "#predection\n",
    "x_train_pred = model.predict(x_train)\n",
    "x_test_pred = model.predict(x_test)\n",
    "\n",
    "#evolution\n",
    "print('train accuracy :', accuracy_score(y_train, x_train_pred))\n",
    "print('test accuracy :', accuracy_score(y_test, x_test_pred))\n",
    "from sklearn.model_selection import cross_val_score\n",
    "print('cv score :',cross_val_score(model,x_train,y_train,cv=5,scoring='accuracy').mean())"
   ]
  }
 ],
 "metadata": {
  "kernelspec": {
   "display_name": "Python [conda env:base] *",
   "language": "python",
   "name": "conda-base-py"
  },
  "language_info": {
   "codemirror_mode": {
    "name": "ipython",
    "version": 3
   },
   "file_extension": ".py",
   "mimetype": "text/x-python",
   "name": "python",
   "nbconvert_exporter": "python",
   "pygments_lexer": "ipython3",
   "version": "3.12.7"
  }
 },
 "nbformat": 4,
 "nbformat_minor": 5
}
