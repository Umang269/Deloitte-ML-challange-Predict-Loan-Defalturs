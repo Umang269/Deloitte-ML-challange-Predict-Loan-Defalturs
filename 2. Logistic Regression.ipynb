{
 "cells": [
  {
   "cell_type": "code",
   "execution_count": 41,
   "id": "a7ba40ce-8983-467a-97b9-41d6085f8464",
   "metadata": {},
   "outputs": [],
   "source": [
    "import numpy as np\n",
    "import pandas as pd\n",
    "import warnings\n",
    "warnings.filterwarnings('ignore')"
   ]
  },
  {
   "cell_type": "code",
   "execution_count": 2,
   "id": "cabdaa58-43bd-48e9-8cf1-b7fff0d08303",
   "metadata": {},
   "outputs": [],
   "source": [
    "df = pd.read_csv('cleaned_data')"
   ]
  },
  {
   "cell_type": "code",
   "execution_count": 17,
   "id": "1a76653b-a14a-4cfd-aff2-b07f8a400db4",
   "metadata": {},
   "outputs": [],
   "source": [
    "X=df.drop(columns='Loan_Status')\n",
    "y=df['Loan_Status']"
   ]
  },
  {
   "cell_type": "code",
   "execution_count": 21,
   "id": "10b449f3-7e9b-4574-9e1e-2ce51e6135bf",
   "metadata": {},
   "outputs": [],
   "source": [
    "from sklearn.model_selection import train_test_split as tc\n",
    "x_train,x_test,y_train,y_test = tc(X,y,test_size=0.20,random_state=54)"
   ]
  },
  {
   "cell_type": "code",
   "execution_count": 29,
   "id": "c2732cdb-0d2b-41d0-830e-136368128adb",
   "metadata": {},
   "outputs": [
    {
     "data": {
      "text/plain": [
       "Loan_Status\n",
       "0    48952\n",
       "1     5018\n",
       "Name: count, dtype: int64"
      ]
     },
     "execution_count": 29,
     "metadata": {},
     "output_type": "execute_result"
    }
   ],
   "source": [
    "y_train.value_counts() #Checking balance or imbalance data"
   ]
  },
  {
   "cell_type": "raw",
   "id": "c082e497-aa6e-4caf-967a-f22a5b48471f",
   "metadata": {},
   "source": [
    "y_test.value_counts() #Checking balance or imbalance data"
   ]
  },
  {
   "cell_type": "code",
   "execution_count": 77,
   "id": "2b501c70-055d-4118-b4ff-e718611fda10",
   "metadata": {},
   "outputs": [
    {
     "name": "stdout",
     "output_type": "stream",
     "text": [
      "[-0.23653391]\n",
      "[[-0.02096393  0.00965202  0.00763489 -0.03306732 -0.00709121  0.02380221\n",
      "  -0.00187943  0.01323037  0.00423494  0.01443534 -0.00673434  0.01146183\n",
      "   0.00959456 -0.0063151   0.07997186  0.00369676  0.01649233 -0.00238618\n",
      "  -0.12230888  0.00618447 -0.00238224  0.01139173 -0.03984487 -0.05856175\n",
      "   0.00598173  0.0003266   0.0741895   0.02210475  0.02045907]]\n",
      "Training Accuracy:  0.9070224198628868\n",
      "Testing Accuracy:  0.9093604091010153\n",
      "cross_val_score : 0.9070224198628868\n"
     ]
    }
   ],
   "source": [
    "from sklearn.linear_model import LogisticRegression\n",
    "model = LogisticRegression()\n",
    "\n",
    "#modeling\n",
    "model.fit(x_train,y_train)\n",
    "print(model.intercept_)\n",
    "print(model.coef_)\n",
    "\n",
    "#predection\n",
    "x_test_pred = model.predict(x_test)\n",
    "x_train_pred = model.predict(x_train)\n",
    "\n",
    "#evolution\n",
    "from sklearn.metrics import accuracy_score\n",
    "from sklearn.model_selection import cross_val_score\n",
    "print(\"Training Accuracy: \",accuracy_score(y_train, x_train_pred))\n",
    "print(\"Testing Accuracy: \",accuracy_score(y_test, x_test_pred))\n",
    "cv = cross_val_score(model,x_train,y_train,cv=5)\n",
    "print('cross_val_score :',cv.mean())"
   ]
  },
  {
   "cell_type": "code",
   "execution_count": null,
   "id": "6bb71b8b-51b3-4452-b92c-d6a79fa8233c",
   "metadata": {},
   "outputs": [],
   "source": []
  }
 ],
 "metadata": {
  "kernelspec": {
   "display_name": "Python [conda env:base] *",
   "language": "python",
   "name": "conda-base-py"
  },
  "language_info": {
   "codemirror_mode": {
    "name": "ipython",
    "version": 3
   },
   "file_extension": ".py",
   "mimetype": "text/x-python",
   "name": "python",
   "nbconvert_exporter": "python",
   "pygments_lexer": "ipython3",
   "version": "3.12.7"
  }
 },
 "nbformat": 4,
 "nbformat_minor": 5
}
