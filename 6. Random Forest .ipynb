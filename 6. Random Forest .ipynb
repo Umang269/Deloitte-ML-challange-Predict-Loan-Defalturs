{
 "cells": [
  {
   "cell_type": "code",
   "execution_count": 1,
   "id": "a7ba40ce-8983-467a-97b9-41d6085f8464",
   "metadata": {},
   "outputs": [],
   "source": [
    "import numpy as np\n",
    "import pandas as pd\n",
    "import warnings\n",
    "warnings.filterwarnings('ignore')"
   ]
  },
  {
   "cell_type": "code",
   "execution_count": 2,
   "id": "cabdaa58-43bd-48e9-8cf1-b7fff0d08303",
   "metadata": {
    "jupyter": {
     "source_hidden": true
    }
   },
   "outputs": [],
   "source": [
    "df = pd.read_csv('cleaned_data')"
   ]
  },
  {
   "cell_type": "code",
   "execution_count": 3,
   "id": "1a76653b-a14a-4cfd-aff2-b07f8a400db4",
   "metadata": {},
   "outputs": [],
   "source": [
    "X=df.drop(columns='Loan_Status')\n",
    "y=df['Loan_Status']"
   ]
  },
  {
   "cell_type": "code",
   "execution_count": 4,
   "id": "10b449f3-7e9b-4574-9e1e-2ce51e6135bf",
   "metadata": {},
   "outputs": [],
   "source": [
    "from sklearn.model_selection import train_test_split as tc\n",
    "x_train,x_test,y_train,y_test = tc(X,y,test_size=0.20,random_state=54)"
   ]
  },
  {
   "cell_type": "code",
   "execution_count": 5,
   "id": "c2732cdb-0d2b-41d0-830e-136368128adb",
   "metadata": {},
   "outputs": [
    {
     "data": {
      "text/plain": [
       "Loan_Status\n",
       "0    48952\n",
       "1     5018\n",
       "Name: count, dtype: int64"
      ]
     },
     "execution_count": 5,
     "metadata": {},
     "output_type": "execute_result"
    }
   ],
   "source": [
    "y_train.value_counts() #Checking balance or imbalance data"
   ]
  },
  {
   "cell_type": "code",
   "execution_count": 6,
   "id": "64ff92f7-71f8-4565-9c6e-a6cefc34ea8f",
   "metadata": {},
   "outputs": [
    {
     "data": {
      "text/plain": [
       "Loan_Status\n",
       "0    12270\n",
       "1     1223\n",
       "Name: count, dtype: int64"
      ]
     },
     "execution_count": 6,
     "metadata": {},
     "output_type": "execute_result"
    }
   ],
   "source": [
    "y_test.value_counts() #Checking balance or imbalance data"
   ]
  },
  {
   "cell_type": "code",
   "execution_count": 7,
   "id": "ac1fda30-f158-4a8d-83a6-3a40c08cb4ae",
   "metadata": {},
   "outputs": [
    {
     "name": "stdout",
     "output_type": "stream",
     "text": [
      "RandomForestClassifier(n_estimators=25)\n"
     ]
    }
   ],
   "source": [
    "from sklearn.ensemble import RandomForestClassifier\n",
    "from sklearn.model_selection import GridSearchCV\n",
    "estimator=RandomForestClassifier()\n",
    "param_grid={'n_estimators' : list(range(20,30))}\n",
    "gscv=GridSearchCV(estimator,param_grid,cv=5,scoring='accuracy')\n",
    "gscv.fit(x_train,y_train)\n",
    "print(gscv.best_estimator_)"
   ]
  },
  {
   "cell_type": "code",
   "execution_count": 20,
   "id": "1b52dc7a-ffef-49a7-9718-ff829970772a",
   "metadata": {},
   "outputs": [
    {
     "name": "stdout",
     "output_type": "stream",
     "text": [
      "train accuracy : 0.9962757087270706\n",
      "test accuracy : 0.9092862965982361\n",
      "cv score : 0.9070038910505837\n"
     ]
    }
   ],
   "source": [
    "from sklearn.ensemble import RandomForestClassifier\n",
    "from sklearn.metrics import accuracy_score\n",
    "#modeling\n",
    "model = RandomForestClassifier(n_estimators = 25)\n",
    "model.fit(x_train,y_train)\n",
    "\n",
    "#predection\n",
    "x_train_pred = model.predict(x_train)\n",
    "x_test_pred = model.predict(x_test)\n",
    "\n",
    "#evolution\n",
    "print('train accuracy :', accuracy_score(y_train, x_train_pred))\n",
    "print('test accuracy :', accuracy_score(y_test, x_test_pred))\n",
    "from sklearn.model_selection import cross_val_score\n",
    "print('cv score :',cross_val_score(model,x_train,y_train,cv=5,scoring='accuracy').mean())"
   ]
  },
  {
   "cell_type": "code",
   "execution_count": 22,
   "id": "c9961744-2066-40b7-9c18-ff3818df712b",
   "metadata": {},
   "outputs": [
    {
     "name": "stdout",
     "output_type": "stream",
     "text": [
      "[0.05381195 0.05110407 0.05138702 0.00672173 0.05318625 0.01994877\n",
      " 0.03673997 0.01054096 0.04887989 0.01135133 0.05136274 0.01073063\n",
      " 0.00732087 0.03539631 0.00567896 0.0488925  0.05171835 0.03984767\n",
      " 0.00639231 0.05179001 0.05103984 0.05164742 0.05213754 0.002173\n",
      " 0.0005792  0.04418624 0.04137548 0.05340665 0.05065236]\n"
     ]
    }
   ],
   "source": [
    "importances = model.feature_importances_\n",
    "print(importances)"
   ]
  },
  {
   "cell_type": "code",
   "execution_count": null,
   "id": "22bcaebb-0eb2-4bc9-b2d8-7e8562376fc5",
   "metadata": {},
   "outputs": [],
   "source": []
  }
 ],
 "metadata": {
  "kernelspec": {
   "display_name": "Python [conda env:base] *",
   "language": "python",
   "name": "conda-base-py"
  },
  "language_info": {
   "codemirror_mode": {
    "name": "ipython",
    "version": 3
   },
   "file_extension": ".py",
   "mimetype": "text/x-python",
   "name": "python",
   "nbconvert_exporter": "python",
   "pygments_lexer": "ipython3",
   "version": "3.12.7"
  }
 },
 "nbformat": 4,
 "nbformat_minor": 5
}
