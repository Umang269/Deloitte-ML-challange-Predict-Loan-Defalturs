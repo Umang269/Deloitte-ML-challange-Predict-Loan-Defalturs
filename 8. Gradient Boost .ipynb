{
 "cells": [
  {
   "cell_type": "code",
   "execution_count": 5,
   "id": "a7ba40ce-8983-467a-97b9-41d6085f8464",
   "metadata": {},
   "outputs": [],
   "source": [
    "import numpy as np\n",
    "import pandas as pd\n",
    "import warnings\n",
    "warnings.filterwarnings('ignore')"
   ]
  },
  {
   "cell_type": "code",
   "execution_count": 7,
   "id": "cabdaa58-43bd-48e9-8cf1-b7fff0d08303",
   "metadata": {},
   "outputs": [],
   "source": [
    "df = pd.read_csv('cleaned_data')"
   ]
  },
  {
   "cell_type": "code",
   "execution_count": 8,
   "id": "1a76653b-a14a-4cfd-aff2-b07f8a400db4",
   "metadata": {},
   "outputs": [],
   "source": [
    "X=df.drop(columns='Loan_Status')\n",
    "y=df['Loan_Status']"
   ]
  },
  {
   "cell_type": "code",
   "execution_count": 11,
   "id": "10b449f3-7e9b-4574-9e1e-2ce51e6135bf",
   "metadata": {},
   "outputs": [],
   "source": [
    "from sklearn.model_selection import train_test_split as tc\n",
    "x_train,x_test,y_train,y_test = tc(X,y,test_size=0.20,random_state=54)"
   ]
  },
  {
   "cell_type": "code",
   "execution_count": 13,
   "id": "c2732cdb-0d2b-41d0-830e-136368128adb",
   "metadata": {},
   "outputs": [
    {
     "data": {
      "text/plain": [
       "Loan_Status\n",
       "0    48952\n",
       "1     5018\n",
       "Name: count, dtype: int64"
      ]
     },
     "execution_count": 13,
     "metadata": {},
     "output_type": "execute_result"
    }
   ],
   "source": [
    "y_train.value_counts() #Checking balance or imbalance data"
   ]
  },
  {
   "cell_type": "code",
   "execution_count": 15,
   "id": "ac1fda30-f158-4a8d-83a6-3a40c08cb4ae",
   "metadata": {},
   "outputs": [
    {
     "name": "stdout",
     "output_type": "stream",
     "text": [
      "GradientBoostingClassifier(n_estimators=1)\n"
     ]
    }
   ],
   "source": [
    "from sklearn.ensemble import GradientBoostingClassifier\n",
    "from sklearn.model_selection import GridSearchCV\n",
    "estimator=GradientBoostingClassifier()\n",
    "param_grid={'n_estimators' : list(range(1,20))}\n",
    "gscv=GridSearchCV(estimator,param_grid,cv=5,scoring='accuracy')\n",
    "gscv.fit(x_train,y_train)\n",
    "print(gscv.best_estimator_)"
   ]
  },
  {
   "cell_type": "code",
   "execution_count": 19,
   "id": "1b52dc7a-ffef-49a7-9718-ff829970772a",
   "metadata": {},
   "outputs": [
    {
     "name": "stdout",
     "output_type": "stream",
     "text": [
      "train accuracy : 0.9070224198628868\n",
      "test accuracy : 0.9093604091010153\n",
      "cv score : 0.9070224198628868\n"
     ]
    }
   ],
   "source": [
    "from sklearn.ensemble import GradientBoostingClassifier\n",
    "from sklearn.metrics import accuracy_score\n",
    "#modeling\n",
    "model = GradientBoostingClassifier(n_estimators = 1)\n",
    "model.fit(x_train,y_train)\n",
    "\n",
    "#predection\n",
    "x_train_pred = model.predict(x_train)\n",
    "x_test_pred = model.predict(x_test)\n",
    "\n",
    "#evolution\n",
    "print('train accuracy :', accuracy_score(y_train, x_train_pred))\n",
    "print('test accuracy :', accuracy_score(y_test, x_test_pred))\n",
    "from sklearn.model_selection import cross_val_score\n",
    "print('cv score :',cross_val_score(model,x_train,y_train,cv=5,scoring='accuracy').mean())"
   ]
  },
  {
   "cell_type": "code",
   "execution_count": 21,
   "id": "c9961744-2066-40b7-9c18-ff3818df712b",
   "metadata": {},
   "outputs": [
    {
     "name": "stdout",
     "output_type": "stream",
     "text": [
      "[0.11001802 0.         0.         0.         0.11759863 0.\n",
      " 0.         0.         0.         0.         0.         0.\n",
      " 0.         0.         0.         0.         0.         0.\n",
      " 0.         0.         0.         0.         0.32255589 0.\n",
      " 0.         0.         0.33682273 0.11300473 0.        ]\n"
     ]
    }
   ],
   "source": [
    "importances = model.feature_importances_\n",
    "print(importances)"
   ]
  }
 ],
 "metadata": {
  "kernelspec": {
   "display_name": "Python [conda env:base] *",
   "language": "python",
   "name": "conda-base-py"
  },
  "language_info": {
   "codemirror_mode": {
    "name": "ipython",
    "version": 3
   },
   "file_extension": ".py",
   "mimetype": "text/x-python",
   "name": "python",
   "nbconvert_exporter": "python",
   "pygments_lexer": "ipython3",
   "version": "3.12.7"
  }
 },
 "nbformat": 4,
 "nbformat_minor": 5
}
