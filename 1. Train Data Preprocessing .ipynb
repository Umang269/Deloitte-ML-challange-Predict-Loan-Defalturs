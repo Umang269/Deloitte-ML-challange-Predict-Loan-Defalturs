{
 "cells": [
  {
   "cell_type": "code",
   "execution_count": 1,
   "id": "1a575032-c06d-439b-990e-2097216407e9",
   "metadata": {},
   "outputs": [],
   "source": [
    "import numpy as np\n",
    "import pandas as pd\n",
    "import matplotlib.pyplot as plt\n",
    "import seaborn as sns\n",
    "from scipy import stats\n",
    "import warnings\n",
    "warnings.filterwarnings('ignore')"
   ]
  },
  {
   "cell_type": "code",
   "execution_count": 2,
   "id": "293c7abc-0187-4a7f-8fba-57a366cc1d0d",
   "metadata": {},
   "outputs": [],
   "source": [
    "df=pd.read_csv(\"train.csv\")"
   ]
  },
  {
   "cell_type": "code",
   "execution_count": 3,
   "id": "d8314208-2c70-421e-b4ba-49c8504a05dd",
   "metadata": {},
   "outputs": [
    {
     "data": {
      "text/html": [
       "<div>\n",
       "<style scoped>\n",
       "    .dataframe tbody tr th:only-of-type {\n",
       "        vertical-align: middle;\n",
       "    }\n",
       "\n",
       "    .dataframe tbody tr th {\n",
       "        vertical-align: top;\n",
       "    }\n",
       "\n",
       "    .dataframe thead th {\n",
       "        text-align: right;\n",
       "    }\n",
       "</style>\n",
       "<table border=\"1\" class=\"dataframe\">\n",
       "  <thead>\n",
       "    <tr style=\"text-align: right;\">\n",
       "      <th></th>\n",
       "      <th>ID</th>\n",
       "      <th>Loan Amount</th>\n",
       "      <th>Funded Amount</th>\n",
       "      <th>Funded Amount Investor</th>\n",
       "      <th>Term</th>\n",
       "      <th>Batch Enrolled</th>\n",
       "      <th>Interest Rate</th>\n",
       "      <th>Grade</th>\n",
       "      <th>Sub Grade</th>\n",
       "      <th>Employment Duration</th>\n",
       "      <th>...</th>\n",
       "      <th>Recoveries</th>\n",
       "      <th>Collection Recovery Fee</th>\n",
       "      <th>Collection 12 months Medical</th>\n",
       "      <th>Application Type</th>\n",
       "      <th>Last week Pay</th>\n",
       "      <th>Accounts Delinquent</th>\n",
       "      <th>Total Collection Amount</th>\n",
       "      <th>Total Current Balance</th>\n",
       "      <th>Total Revolving Credit Limit</th>\n",
       "      <th>Loan Status</th>\n",
       "    </tr>\n",
       "  </thead>\n",
       "  <tbody>\n",
       "    <tr>\n",
       "      <th>0</th>\n",
       "      <td>65087372</td>\n",
       "      <td>10000</td>\n",
       "      <td>32236</td>\n",
       "      <td>12329.36286</td>\n",
       "      <td>59</td>\n",
       "      <td>BAT2522922</td>\n",
       "      <td>11.135007</td>\n",
       "      <td>B</td>\n",
       "      <td>C4</td>\n",
       "      <td>MORTGAGE</td>\n",
       "      <td>...</td>\n",
       "      <td>2.498291</td>\n",
       "      <td>0.793724</td>\n",
       "      <td>0</td>\n",
       "      <td>INDIVIDUAL</td>\n",
       "      <td>49</td>\n",
       "      <td>0</td>\n",
       "      <td>31</td>\n",
       "      <td>311301</td>\n",
       "      <td>6619</td>\n",
       "      <td>0</td>\n",
       "    </tr>\n",
       "    <tr>\n",
       "      <th>1</th>\n",
       "      <td>1450153</td>\n",
       "      <td>3609</td>\n",
       "      <td>11940</td>\n",
       "      <td>12191.99692</td>\n",
       "      <td>59</td>\n",
       "      <td>BAT1586599</td>\n",
       "      <td>12.237563</td>\n",
       "      <td>C</td>\n",
       "      <td>D3</td>\n",
       "      <td>RENT</td>\n",
       "      <td>...</td>\n",
       "      <td>2.377215</td>\n",
       "      <td>0.974821</td>\n",
       "      <td>0</td>\n",
       "      <td>INDIVIDUAL</td>\n",
       "      <td>109</td>\n",
       "      <td>0</td>\n",
       "      <td>53</td>\n",
       "      <td>182610</td>\n",
       "      <td>20885</td>\n",
       "      <td>0</td>\n",
       "    </tr>\n",
       "    <tr>\n",
       "      <th>2</th>\n",
       "      <td>1969101</td>\n",
       "      <td>28276</td>\n",
       "      <td>9311</td>\n",
       "      <td>21603.22455</td>\n",
       "      <td>59</td>\n",
       "      <td>BAT2136391</td>\n",
       "      <td>12.545884</td>\n",
       "      <td>F</td>\n",
       "      <td>D4</td>\n",
       "      <td>MORTGAGE</td>\n",
       "      <td>...</td>\n",
       "      <td>4.316277</td>\n",
       "      <td>1.020075</td>\n",
       "      <td>0</td>\n",
       "      <td>INDIVIDUAL</td>\n",
       "      <td>66</td>\n",
       "      <td>0</td>\n",
       "      <td>34</td>\n",
       "      <td>89801</td>\n",
       "      <td>26155</td>\n",
       "      <td>0</td>\n",
       "    </tr>\n",
       "    <tr>\n",
       "      <th>3</th>\n",
       "      <td>6651430</td>\n",
       "      <td>11170</td>\n",
       "      <td>6954</td>\n",
       "      <td>17877.15585</td>\n",
       "      <td>59</td>\n",
       "      <td>BAT2428731</td>\n",
       "      <td>16.731201</td>\n",
       "      <td>C</td>\n",
       "      <td>C3</td>\n",
       "      <td>MORTGAGE</td>\n",
       "      <td>...</td>\n",
       "      <td>0.107020</td>\n",
       "      <td>0.749971</td>\n",
       "      <td>0</td>\n",
       "      <td>INDIVIDUAL</td>\n",
       "      <td>39</td>\n",
       "      <td>0</td>\n",
       "      <td>40</td>\n",
       "      <td>9189</td>\n",
       "      <td>60214</td>\n",
       "      <td>0</td>\n",
       "    </tr>\n",
       "    <tr>\n",
       "      <th>4</th>\n",
       "      <td>14354669</td>\n",
       "      <td>16890</td>\n",
       "      <td>13226</td>\n",
       "      <td>13539.92667</td>\n",
       "      <td>59</td>\n",
       "      <td>BAT5341619</td>\n",
       "      <td>15.008300</td>\n",
       "      <td>C</td>\n",
       "      <td>D4</td>\n",
       "      <td>MORTGAGE</td>\n",
       "      <td>...</td>\n",
       "      <td>1294.818751</td>\n",
       "      <td>0.368953</td>\n",
       "      <td>0</td>\n",
       "      <td>INDIVIDUAL</td>\n",
       "      <td>18</td>\n",
       "      <td>0</td>\n",
       "      <td>430</td>\n",
       "      <td>126029</td>\n",
       "      <td>22579</td>\n",
       "      <td>0</td>\n",
       "    </tr>\n",
       "  </tbody>\n",
       "</table>\n",
       "<p>5 rows × 35 columns</p>\n",
       "</div>"
      ],
      "text/plain": [
       "         ID  Loan Amount  Funded Amount  Funded Amount Investor  Term  \\\n",
       "0  65087372        10000          32236             12329.36286    59   \n",
       "1   1450153         3609          11940             12191.99692    59   \n",
       "2   1969101        28276           9311             21603.22455    59   \n",
       "3   6651430        11170           6954             17877.15585    59   \n",
       "4  14354669        16890          13226             13539.92667    59   \n",
       "\n",
       "  Batch Enrolled  Interest Rate Grade Sub Grade Employment Duration  ...  \\\n",
       "0     BAT2522922      11.135007     B        C4            MORTGAGE  ...   \n",
       "1     BAT1586599      12.237563     C        D3                RENT  ...   \n",
       "2     BAT2136391      12.545884     F        D4            MORTGAGE  ...   \n",
       "3     BAT2428731      16.731201     C        C3            MORTGAGE  ...   \n",
       "4     BAT5341619      15.008300     C        D4            MORTGAGE  ...   \n",
       "\n",
       "    Recoveries Collection Recovery Fee Collection 12 months Medical  \\\n",
       "0     2.498291                0.793724                            0   \n",
       "1     2.377215                0.974821                            0   \n",
       "2     4.316277                1.020075                            0   \n",
       "3     0.107020                0.749971                            0   \n",
       "4  1294.818751                0.368953                            0   \n",
       "\n",
       "  Application Type  Last week Pay  Accounts Delinquent  \\\n",
       "0       INDIVIDUAL             49                    0   \n",
       "1       INDIVIDUAL            109                    0   \n",
       "2       INDIVIDUAL             66                    0   \n",
       "3       INDIVIDUAL             39                    0   \n",
       "4       INDIVIDUAL             18                    0   \n",
       "\n",
       "   Total Collection Amount  Total Current Balance  \\\n",
       "0                       31                 311301   \n",
       "1                       53                 182610   \n",
       "2                       34                  89801   \n",
       "3                       40                   9189   \n",
       "4                      430                 126029   \n",
       "\n",
       "   Total Revolving Credit Limit  Loan Status  \n",
       "0                          6619            0  \n",
       "1                         20885            0  \n",
       "2                         26155            0  \n",
       "3                         60214            0  \n",
       "4                         22579            0  \n",
       "\n",
       "[5 rows x 35 columns]"
      ]
     },
     "execution_count": 3,
     "metadata": {},
     "output_type": "execute_result"
    }
   ],
   "source": [
    "df.head()"
   ]
  },
  {
   "cell_type": "markdown",
   "id": "e7955b4a-9a49-4604-ab85-d76275dfa598",
   "metadata": {},
   "source": [
    "# Data Understanding and Exploration "
   ]
  },
  {
   "cell_type": "code",
   "execution_count": 5,
   "id": "fc5a3816-4ffb-4281-a58f-b370ed2c117a",
   "metadata": {},
   "outputs": [
    {
     "data": {
      "text/plain": [
       "(67463, 35)"
      ]
     },
     "execution_count": 5,
     "metadata": {},
     "output_type": "execute_result"
    }
   ],
   "source": [
    "df.shape #Checking the size of dataset"
   ]
  },
  {
   "cell_type": "code",
   "execution_count": 6,
   "id": "9abd07d0-2a27-46a5-aa83-ae020dd0323e",
   "metadata": {},
   "outputs": [
    {
     "name": "stdout",
     "output_type": "stream",
     "text": [
      "<class 'pandas.core.frame.DataFrame'>\n",
      "RangeIndex: 67463 entries, 0 to 67462\n",
      "Data columns (total 35 columns):\n",
      " #   Column                        Non-Null Count  Dtype  \n",
      "---  ------                        --------------  -----  \n",
      " 0   ID                            67463 non-null  int64  \n",
      " 1   Loan Amount                   67463 non-null  int64  \n",
      " 2   Funded Amount                 67463 non-null  int64  \n",
      " 3   Funded Amount Investor        67463 non-null  float64\n",
      " 4   Term                          67463 non-null  int64  \n",
      " 5   Batch Enrolled                67463 non-null  object \n",
      " 6   Interest Rate                 67463 non-null  float64\n",
      " 7   Grade                         67463 non-null  object \n",
      " 8   Sub Grade                     67463 non-null  object \n",
      " 9   Employment Duration           67463 non-null  object \n",
      " 10  Home Ownership                67463 non-null  float64\n",
      " 11  Verification Status           67463 non-null  object \n",
      " 12  Payment Plan                  67463 non-null  object \n",
      " 13  Loan Title                    67463 non-null  object \n",
      " 14  Debit to Income               67463 non-null  float64\n",
      " 15  Delinquency - two years       67463 non-null  int64  \n",
      " 16  Inquires - six months         67463 non-null  int64  \n",
      " 17  Open Account                  67463 non-null  int64  \n",
      " 18  Public Record                 67463 non-null  int64  \n",
      " 19  Revolving Balance             67463 non-null  int64  \n",
      " 20  Revolving Utilities           67463 non-null  float64\n",
      " 21  Total Accounts                67463 non-null  int64  \n",
      " 22  Initial List Status           67463 non-null  object \n",
      " 23  Total Received Interest       67463 non-null  float64\n",
      " 24  Total Received Late Fee       67463 non-null  float64\n",
      " 25  Recoveries                    67463 non-null  float64\n",
      " 26  Collection Recovery Fee       67463 non-null  float64\n",
      " 27  Collection 12 months Medical  67463 non-null  int64  \n",
      " 28  Application Type              67463 non-null  object \n",
      " 29  Last week Pay                 67463 non-null  int64  \n",
      " 30  Accounts Delinquent           67463 non-null  int64  \n",
      " 31  Total Collection Amount       67463 non-null  int64  \n",
      " 32  Total Current Balance         67463 non-null  int64  \n",
      " 33  Total Revolving Credit Limit  67463 non-null  int64  \n",
      " 34  Loan Status                   67463 non-null  int64  \n",
      "dtypes: float64(9), int64(17), object(9)\n",
      "memory usage: 18.0+ MB\n"
     ]
    }
   ],
   "source": [
    "df.info() #Need to rename the columns as per syntax"
   ]
  },
  {
   "cell_type": "code",
   "execution_count": 7,
   "id": "11640f59-12b7-44c2-b286-25d8411abe5b",
   "metadata": {},
   "outputs": [],
   "source": [
    "df.rename(columns={\n",
    "    'ID': 'ID',\n",
    "    'Loan Amount': 'Loan_Amount',\n",
    "    'Funded Amount': 'Funded_Amount',\n",
    "    'Funded Amount Investor': 'Funded_Amount_Investor',\n",
    "    'Term': 'Term',\n",
    "    'Batch Enrolled': 'Batch_Enrolled',\n",
    "    'Interest Rate': 'Interest_Rate',\n",
    "    'Grade': 'Grade',\n",
    "    'Sub Grade': 'Sub_Grade',\n",
    "    'Employment Duration': 'Employment_Duration',\n",
    "    'Home Ownership': 'Home_Ownership',\n",
    "    'Verification Status': 'Verification_Status',\n",
    "    'Payment Plan': 'Payment_Plan',\n",
    "    'Loan Title': 'Loan_Title',\n",
    "    'Debit to Income': 'Debit_to_Income',\n",
    "    'Delinquency - two years': 'Delinquency_Two_Years',\n",
    "    'Inquires - six months': 'Inquiries_Six_Months',\n",
    "    'Open Account': 'Open_Account',\n",
    "    'Public Record': 'Public_Record',\n",
    "    'Revolving Balance': 'Revolving_Balance',\n",
    "    'Revolving Utilities': 'Revolving_Utilities',\n",
    "    'Total Accounts': 'Total_Accounts',\n",
    "    'Initial List Status': 'Initial_List_Status',\n",
    "    'Total Received Interest': 'Total_Received_Interest',\n",
    "    'Total Received Late Fee': 'Total_Received_Late_Fee',\n",
    "    'Recoveries': 'Recoveries',\n",
    "    'Collection Recovery Fee': 'Collection_Recovery_Fee',\n",
    "    'Collection 12 months Medical': 'Collection_12_Months_Medical',\n",
    "    'Application Type': 'Application_Type',\n",
    "    'Last week Pay': 'Last_Week_Pay',\n",
    "    'Accounts Delinquent': 'Accounts_Delinquent',\n",
    "    'Total Collection Amount': 'Total_Collection_Amount',\n",
    "    'Total Current Balance': 'Total_Current_Balance',\n",
    "    'Total Revolving Credit Limit': 'Total_Revolving_Credit_Limit',\n",
    "    'Loan Status': 'Loan_Status'\n",
    "}, inplace=True)\n"
   ]
  },
  {
   "cell_type": "code",
   "execution_count": 8,
   "id": "0b3a4427-258a-4e0c-a600-7022032f485b",
   "metadata": {},
   "outputs": [
    {
     "data": {
      "text/plain": [
       "ID                              0\n",
       "Loan_Amount                     0\n",
       "Funded_Amount                   0\n",
       "Funded_Amount_Investor          0\n",
       "Term                            0\n",
       "Batch_Enrolled                  0\n",
       "Interest_Rate                   0\n",
       "Grade                           0\n",
       "Sub_Grade                       0\n",
       "Employment_Duration             0\n",
       "Home_Ownership                  0\n",
       "Verification_Status             0\n",
       "Payment_Plan                    0\n",
       "Loan_Title                      0\n",
       "Debit_to_Income                 0\n",
       "Delinquency_Two_Years           0\n",
       "Inquiries_Six_Months            0\n",
       "Open_Account                    0\n",
       "Public_Record                   0\n",
       "Revolving_Balance               0\n",
       "Revolving_Utilities             0\n",
       "Total_Accounts                  0\n",
       "Initial_List_Status             0\n",
       "Total_Received_Interest         0\n",
       "Total_Received_Late_Fee         0\n",
       "Recoveries                      0\n",
       "Collection_Recovery_Fee         0\n",
       "Collection_12_Months_Medical    0\n",
       "Application_Type                0\n",
       "Last_Week_Pay                   0\n",
       "Accounts_Delinquent             0\n",
       "Total_Collection_Amount         0\n",
       "Total_Current_Balance           0\n",
       "Total_Revolving_Credit_Limit    0\n",
       "Loan_Status                     0\n",
       "dtype: int64"
      ]
     },
     "execution_count": 8,
     "metadata": {},
     "output_type": "execute_result"
    }
   ],
   "source": [
    "df.isnull().sum() #Checking null values in each columns"
   ]
  },
  {
   "cell_type": "code",
   "execution_count": 9,
   "id": "0ec603e8-789d-48c9-b11c-8d27da659269",
   "metadata": {},
   "outputs": [
    {
     "data": {
      "text/plain": [
       "0"
      ]
     },
     "execution_count": 9,
     "metadata": {},
     "output_type": "execute_result"
    }
   ],
   "source": [
    "df.duplicated().sum() #Checking number of Duplicates"
   ]
  },
  {
   "cell_type": "code",
   "execution_count": 10,
   "id": "7f445e6d-eaf8-4cee-8c1e-e24185d39735",
   "metadata": {},
   "outputs": [
    {
     "data": {
      "text/plain": [
       "67463"
      ]
     },
     "execution_count": 10,
     "metadata": {},
     "output_type": "execute_result"
    }
   ],
   "source": [
    "df['ID'].nunique()"
   ]
  },
  {
   "cell_type": "code",
   "execution_count": 11,
   "id": "6711d800-4c5b-4de8-965d-981716779393",
   "metadata": {},
   "outputs": [
    {
     "data": {
      "text/plain": [
       "27525"
      ]
     },
     "execution_count": 11,
     "metadata": {},
     "output_type": "execute_result"
    }
   ],
   "source": [
    "df['Loan_Amount'].nunique()"
   ]
  },
  {
   "cell_type": "code",
   "execution_count": 12,
   "id": "8c98f77c-70dc-415b-8ebb-b2fbe4456484",
   "metadata": {},
   "outputs": [
    {
     "data": {
      "text/plain": [
       "24548"
      ]
     },
     "execution_count": 12,
     "metadata": {},
     "output_type": "execute_result"
    }
   ],
   "source": [
    "df['Funded_Amount'].nunique()"
   ]
  },
  {
   "cell_type": "code",
   "execution_count": 13,
   "id": "700199cc-4558-4d70-9036-7ef16066e61b",
   "metadata": {},
   "outputs": [
    {
     "data": {
      "text/plain": [
       "67441"
      ]
     },
     "execution_count": 13,
     "metadata": {},
     "output_type": "execute_result"
    }
   ],
   "source": [
    "df['Funded_Amount_Investor'].nunique()"
   ]
  },
  {
   "cell_type": "code",
   "execution_count": 14,
   "id": "4d9a2a15-58c3-486e-ad6e-164d0a275f35",
   "metadata": {},
   "outputs": [
    {
     "data": {
      "text/plain": [
       "Term\n",
       "59    43780\n",
       "58    22226\n",
       "36     1457\n",
       "Name: count, dtype: int64"
      ]
     },
     "execution_count": 14,
     "metadata": {},
     "output_type": "execute_result"
    }
   ],
   "source": [
    "df['Term'].value_counts()"
   ]
  },
  {
   "cell_type": "code",
   "execution_count": 15,
   "id": "3227504d-0fd3-407c-8a74-24b3420fb191",
   "metadata": {},
   "outputs": [
    {
     "data": {
      "text/plain": [
       "41"
      ]
     },
     "execution_count": 15,
     "metadata": {},
     "output_type": "execute_result"
    }
   ],
   "source": [
    "df['Batch_Enrolled'].nunique() #we can drop this in feature engineering section"
   ]
  },
  {
   "cell_type": "code",
   "execution_count": 16,
   "id": "0226d4ef-ad23-479e-aa51-f18653545f18",
   "metadata": {},
   "outputs": [
    {
     "data": {
      "text/plain": [
       "67448"
      ]
     },
     "execution_count": 16,
     "metadata": {},
     "output_type": "execute_result"
    }
   ],
   "source": [
    "df['Interest_Rate'].nunique()"
   ]
  },
  {
   "cell_type": "code",
   "execution_count": 17,
   "id": "b5f90623-7cc8-4c72-976d-fa0b89f88fb1",
   "metadata": {},
   "outputs": [
    {
     "data": {
      "text/plain": [
       "Grade\n",
       "C    19085\n",
       "B    18742\n",
       "A    12055\n",
       "D     8259\n",
       "E     6446\n",
       "F     2246\n",
       "G      630\n",
       "Name: count, dtype: int64"
      ]
     },
     "execution_count": 17,
     "metadata": {},
     "output_type": "execute_result"
    }
   ],
   "source": [
    "df['Grade'].value_counts() #ordinal data"
   ]
  },
  {
   "cell_type": "code",
   "execution_count": 18,
   "id": "6829ff47-b3e9-4013-9ce8-3f9674cb1b19",
   "metadata": {},
   "outputs": [
    {
     "data": {
      "text/plain": [
       "array(['C4', 'D3', 'D4', 'C3', 'G5', 'C5', 'A5', 'C2', 'B5', 'B1', 'B4',\n",
       "       'A4', 'B2', 'D2', 'C1', 'F3', 'D1', 'F2', 'A2', 'A3', 'F1', 'E5',\n",
       "       'B3', 'F4', 'G1', 'F5', 'E1', 'E2', 'D5', 'G2', 'E4', 'A1', 'G3',\n",
       "       'E3', 'G4'], dtype=object)"
      ]
     },
     "execution_count": 18,
     "metadata": {},
     "output_type": "execute_result"
    }
   ],
   "source": [
    "df['Sub_Grade'].unique() #ordinal data"
   ]
  },
  {
   "cell_type": "code",
   "execution_count": 19,
   "id": "0eeaea78-b2fa-4cdf-b24e-d483023ac05e",
   "metadata": {},
   "outputs": [
    {
     "data": {
      "text/plain": [
       "Employment_Duration\n",
       "MORTGAGE    36351\n",
       "RENT        24150\n",
       "OWN          6962\n",
       "Name: count, dtype: int64"
      ]
     },
     "execution_count": 19,
     "metadata": {},
     "output_type": "execute_result"
    }
   ],
   "source": [
    "df['Employment_Duration'].value_counts() #wrong data"
   ]
  },
  {
   "cell_type": "code",
   "execution_count": 20,
   "id": "255c5ec1-ec9d-41cc-afd7-e8e2426b48c7",
   "metadata": {},
   "outputs": [
    {
     "data": {
      "text/plain": [
       "67454"
      ]
     },
     "execution_count": 20,
     "metadata": {},
     "output_type": "execute_result"
    }
   ],
   "source": [
    "df['Home_Ownership'].nunique() #wrong data"
   ]
  },
  {
   "cell_type": "code",
   "execution_count": 21,
   "id": "8c62a253-2179-455b-9d90-3471cc87bab7",
   "metadata": {},
   "outputs": [
    {
     "data": {
      "text/plain": [
       "Verification_Status\n",
       "Source Verified    33036\n",
       "Verified           18078\n",
       "Not Verified       16349\n",
       "Name: count, dtype: int64"
      ]
     },
     "execution_count": 21,
     "metadata": {},
     "output_type": "execute_result"
    }
   ],
   "source": [
    "df['Verification_Status'].value_counts()"
   ]
  },
  {
   "cell_type": "code",
   "execution_count": 22,
   "id": "4871caff-711d-4afd-a532-8cd55b978d70",
   "metadata": {},
   "outputs": [
    {
     "data": {
      "text/plain": [
       "array(['n'], dtype=object)"
      ]
     },
     "execution_count": 22,
     "metadata": {},
     "output_type": "execute_result"
    }
   ],
   "source": [
    "df['Payment_Plan'].unique() #we can drop this"
   ]
  },
  {
   "cell_type": "code",
   "execution_count": 23,
   "id": "17200bcf-4103-4000-b0eb-97607100049b",
   "metadata": {},
   "outputs": [
    {
     "data": {
      "text/plain": [
       "array(['Debt Consolidation', 'Debt consolidation',\n",
       "       'Credit card refinancing', 'Home improvement',\n",
       "       'Credit Consolidation', 'Green loan', 'Other',\n",
       "       'Moving and relocation', 'Credit Cards', 'Medical expenses',\n",
       "       'DEBT CONSOLIDATION', 'Home Improvement', 'Refinance',\n",
       "       'credit card consolidation', 'Lending Club',\n",
       "       'Debt Consolidation Loan', 'Major purchase', 'Vacation',\n",
       "       'Business', 'Credit card payoff', 'Credit Card Consolidation',\n",
       "       'credit card', 'Credit Card Refi', 'Personal Loan', 'CC Refi',\n",
       "       'consolidate', 'Medical', 'Loan 1', 'Consolidation',\n",
       "       'Card Consolidation', 'Car financing', 'debt', 'home improvement',\n",
       "       'debt consolidation', 'Home buying', 'Freedom', 'Consolidate',\n",
       "       'Consolidated', 'get out of debt', 'consolidation loan',\n",
       "       'Dept consolidation', 'Personal loan', 'Personal', 'Debt', 'cards',\n",
       "       'Cards', 'Bathroom', 'refi', 'Credit Card Loan',\n",
       "       'Credit Card Debt', 'House', 'Debt Consolidation 2013',\n",
       "       'debt loan', 'CC Refinance', 'Consolidation Loan', 'Home',\n",
       "       'CC consolidation', 'Credit Card', 'Credit Card Refinance',\n",
       "       'Credit Loan', 'payoff', 'Bill Consolidation',\n",
       "       'credit card refinance', 'Credit Card consolidation',\n",
       "       'Credit Card Paydown', 'Credit card pay off', 'vacation',\n",
       "       'Credit card refinance', 'Get Debt Free', 'MYLOAN',\n",
       "       'credit pay off', 'Payoff', 'consolidation', 'My Loan', 'Loan',\n",
       "       'Bill Payoff', 'CC-Refinance', 'Debt Reduction', 'Medical loan',\n",
       "       'Wedding Loan', 'Credit', 'CONSOLIDATE', 'personal',\n",
       "       'pay off bills', 'CC Consolidation', 'Refinance Loan',\n",
       "       'Credit Card Payoff', 'Debt Payoff', 'Car Loan', 'Pay Off',\n",
       "       'Debt Loan', 'CONSOLIDATION', 'Pool', 'Credit payoff',\n",
       "       'Credit Card Refinance Loan', 'CC Loan', 'Debt Free',\n",
       "       'debt consolidation loan', 'conso', 'Home Improvement Loan',\n",
       "       'Loan Consolidation', 'Debt payoff', 'Lending loan', 'relief',\n",
       "       'CC', 'loan1', 'Getting Ahead', 'Home loan', 'bills'], dtype=object)"
      ]
     },
     "execution_count": 23,
     "metadata": {},
     "output_type": "execute_result"
    }
   ],
   "source": [
    "df['Loan_Title'].unique() #according to chatgpt we can drop"
   ]
  },
  {
   "cell_type": "code",
   "execution_count": 24,
   "id": "a53ad4b6-d4dd-4b9d-b07a-de9dbd904331",
   "metadata": {},
   "outputs": [
    {
     "data": {
      "text/plain": [
       "67454"
      ]
     },
     "execution_count": 24,
     "metadata": {},
     "output_type": "execute_result"
    }
   ],
   "source": [
    "df['Debit_to_Income'].nunique() "
   ]
  },
  {
   "cell_type": "code",
   "execution_count": 25,
   "id": "3593a058-972f-4958-b797-98b8f9263ff3",
   "metadata": {},
   "outputs": [
    {
     "data": {
      "text/plain": [
       "Delinquency_Two_Years\n",
       "0    52054\n",
       "1    11736\n",
       "2     2651\n",
       "3      445\n",
       "7      252\n",
       "6      191\n",
       "5       74\n",
       "8       44\n",
       "4       16\n",
       "Name: count, dtype: int64"
      ]
     },
     "execution_count": 25,
     "metadata": {},
     "output_type": "execute_result"
    }
   ],
   "source": [
    "df['Delinquency_Two_Years'].value_counts() #Definition: Delinquency means a borrower has missed a payment deadline."
   ]
  },
  {
   "cell_type": "code",
   "execution_count": 26,
   "id": "14a52a9c-9cb3-431a-9e23-c97e4894216a",
   "metadata": {},
   "outputs": [
    {
     "data": {
      "text/plain": [
       "Inquiries_Six_Months\n",
       "0    60486\n",
       "1     4558\n",
       "2     2042\n",
       "3      320\n",
       "4       54\n",
       "5        3\n",
       "Name: count, dtype: int64"
      ]
     },
     "execution_count": 26,
     "metadata": {},
     "output_type": "execute_result"
    }
   ],
   "source": [
    "df['Inquiries_Six_Months'].value_counts() #count"
   ]
  },
  {
   "cell_type": "code",
   "execution_count": 27,
   "id": "62eb4e3b-e580-4b05-86dc-7eea46c3b24b",
   "metadata": {},
   "outputs": [
    {
     "data": {
      "text/plain": [
       "array([13, 12, 14,  7, 16, 11,  6, 17, 10,  8,  9, 26, 31, 28, 19, 15, 33,\n",
       "       30, 21, 18, 27, 20, 25, 24, 23, 22, 34, 32, 29,  5,  4, 36, 35,  3,\n",
       "       37,  2], dtype=int64)"
      ]
     },
     "execution_count": 27,
     "metadata": {},
     "output_type": "execute_result"
    }
   ],
   "source": [
    "df['Open_Account'].unique() #count (Number of currently open credit lines.)"
   ]
  },
  {
   "cell_type": "code",
   "execution_count": 28,
   "id": "ec94080a-5bd9-4573-ac69-de1dd63d6f32",
   "metadata": {},
   "outputs": [
    {
     "data": {
      "text/plain": [
       "Public_Record\n",
       "0    62871\n",
       "1     4133\n",
       "2      200\n",
       "4      184\n",
       "3       75\n",
       "Name: count, dtype: int64"
      ]
     },
     "execution_count": 28,
     "metadata": {},
     "output_type": "execute_result"
    }
   ],
   "source": [
    "df['Public_Record'].value_counts() #count (Number of derogatory public records (e.g., bankruptcies)."
   ]
  },
  {
   "cell_type": "code",
   "execution_count": 29,
   "id": "a46a4bde-3ce4-466f-a2a3-3806366c464c",
   "metadata": {},
   "outputs": [
    {
     "data": {
      "text/plain": [
       "20582"
      ]
     },
     "execution_count": 29,
     "metadata": {},
     "output_type": "execute_result"
    }
   ],
   "source": [
    "df['Revolving_Balance'].nunique() #Current balance on revolving credit lines."
   ]
  },
  {
   "cell_type": "code",
   "execution_count": 30,
   "id": "01ea6e3b-924d-4708-afb1-815af92dc1a2",
   "metadata": {},
   "outputs": [
    {
     "data": {
      "text/plain": [
       "Initial_List_Status\n",
       "w    36299\n",
       "f    31164\n",
       "Name: count, dtype: int64"
      ]
     },
     "execution_count": 30,
     "metadata": {},
     "output_type": "execute_result"
    }
   ],
   "source": [
    "df['Initial_List_Status'].value_counts() #Status of the loan when it was first listed (Institutional investors might prefer lower-risk loans → w loans might default less. f loans might be higher-risk or more accessible.)"
   ]
  },
  {
   "cell_type": "code",
   "execution_count": 31,
   "id": "a3c714ca-40a8-492d-a4f4-52fbd3d00d7c",
   "metadata": {},
   "outputs": [
    {
     "data": {
      "text/plain": [
       "67458"
      ]
     },
     "execution_count": 31,
     "metadata": {},
     "output_type": "execute_result"
    }
   ],
   "source": [
    "df['Revolving_Utilities'].nunique() #Ratio of revolving balance to credit limit — a utilization metric."
   ]
  },
  {
   "cell_type": "code",
   "execution_count": 32,
   "id": "2a9100bc-b98c-4b22-85a3-b91f2233dc84",
   "metadata": {},
   "outputs": [
    {
     "data": {
      "text/plain": [
       "array([ 7, 13, 20, 12, 22, 37, 33, 17, 30, 46, 21, 19, 10, 16, 14,  9, 25,\n",
       "       11, 24, 23, 15, 18, 28,  8, 38, 27, 29,  6, 26,  4,  5, 32, 56, 44,\n",
       "       31, 34, 40, 39, 45, 36, 41, 35, 42, 50, 52, 43, 63, 47, 66, 48, 49,\n",
       "       54, 68, 53, 55, 65, 51, 60, 61, 59, 57, 64, 72, 58, 71, 67, 69, 70,\n",
       "       62], dtype=int64)"
      ]
     },
     "execution_count": 32,
     "metadata": {},
     "output_type": "execute_result"
    }
   ],
   "source": [
    "df['Total_Accounts'].unique() #Total number of credit lines (open or closed)."
   ]
  },
  {
   "cell_type": "code",
   "execution_count": 33,
   "id": "54531075-5db5-41ab-8e1c-173cf1dde172",
   "metadata": {},
   "outputs": [
    {
     "data": {
      "text/plain": [
       "67451"
      ]
     },
     "execution_count": 33,
     "metadata": {},
     "output_type": "execute_result"
    }
   ],
   "source": [
    "df['Total_Received_Interest'].nunique() #Total interest received to date."
   ]
  },
  {
   "cell_type": "code",
   "execution_count": 34,
   "id": "8acbc49a-885a-4c70-a19d-e8ea485f4f65",
   "metadata": {},
   "outputs": [
    {
     "data": {
      "text/plain": [
       "67380"
      ]
     },
     "execution_count": 34,
     "metadata": {},
     "output_type": "execute_result"
    }
   ],
   "source": [
    "df['Total_Received_Late_Fee'].nunique() #Late fees collected from the borrower."
   ]
  },
  {
   "cell_type": "code",
   "execution_count": 35,
   "id": "839c4c10-d33b-47f7-b240-10265f29b923",
   "metadata": {},
   "outputs": [
    {
     "data": {
      "text/plain": [
       "67387"
      ]
     },
     "execution_count": 35,
     "metadata": {},
     "output_type": "execute_result"
    }
   ],
   "source": [
    "df['Recoveries'].nunique() #Amount recovered from charged-off loans"
   ]
  },
  {
   "cell_type": "code",
   "execution_count": 36,
   "id": "27073d19-5b46-45fa-8bf8-fe995a799b46",
   "metadata": {},
   "outputs": [
    {
     "data": {
      "text/plain": [
       "67313"
      ]
     },
     "execution_count": 36,
     "metadata": {},
     "output_type": "execute_result"
    }
   ],
   "source": [
    "df['Collection_Recovery_Fee'].nunique() #Fees associated with collections on the loan."
   ]
  },
  {
   "cell_type": "code",
   "execution_count": 37,
   "id": "01e68b6d-e593-42f0-bc47-a957b9c51729",
   "metadata": {},
   "outputs": [
    {
     "data": {
      "text/plain": [
       "Collection_12_Months_Medical\n",
       "0    66026\n",
       "1     1437\n",
       "Name: count, dtype: int64"
      ]
     },
     "execution_count": 37,
     "metadata": {},
     "output_type": "execute_result"
    }
   ],
   "source": [
    "df['Collection_12_Months_Medical'].value_counts() #Number of medical collections in the past year. Could indicate financial distress."
   ]
  },
  {
   "cell_type": "code",
   "execution_count": 38,
   "id": "f5835405-24a2-4e03-adf8-ae4a442a51f6",
   "metadata": {},
   "outputs": [
    {
     "data": {
      "text/plain": [
       "Application_Type\n",
       "INDIVIDUAL    67340\n",
       "JOINT           123\n",
       "Name: count, dtype: int64"
      ]
     },
     "execution_count": 38,
     "metadata": {},
     "output_type": "execute_result"
    }
   ],
   "source": [
    "df['Application_Type'].value_counts() "
   ]
  },
  {
   "cell_type": "code",
   "execution_count": 39,
   "id": "d4b53081-9625-4786-9e94-b669af4ff425",
   "metadata": {},
   "outputs": [
    {
     "data": {
      "text/plain": [
       "162"
      ]
     },
     "execution_count": 39,
     "metadata": {},
     "output_type": "execute_result"
    }
   ],
   "source": [
    "df['Last_Week_Pay'].nunique() # Time since last payment. Could be categorical like “1 week”, “13 weeks"
   ]
  },
  {
   "cell_type": "code",
   "execution_count": 40,
   "id": "a5211329-1127-4fe6-8726-30f2627dd928",
   "metadata": {},
   "outputs": [
    {
     "data": {
      "text/plain": [
       "Accounts_Delinquent\n",
       "0    67463\n",
       "Name: count, dtype: int64"
      ]
     },
     "execution_count": 40,
     "metadata": {},
     "output_type": "execute_result"
    }
   ],
   "source": [
    "df['Accounts_Delinquent'].value_counts() #simple drop this column"
   ]
  },
  {
   "cell_type": "code",
   "execution_count": 41,
   "id": "44d5dd89-a2fd-4910-9a14-3dce1ca2b56e",
   "metadata": {},
   "outputs": [
    {
     "data": {
      "text/plain": [
       "2193"
      ]
     },
     "execution_count": 41,
     "metadata": {},
     "output_type": "execute_result"
    }
   ],
   "source": [
    "df['Total_Collection_Amount'].nunique() #Total past due amount in collections."
   ]
  },
  {
   "cell_type": "code",
   "execution_count": 42,
   "id": "9cffab59-b0b2-4209-8c55-7af8d5b35800",
   "metadata": {},
   "outputs": [
    {
     "data": {
      "text/plain": [
       "60901"
      ]
     },
     "execution_count": 42,
     "metadata": {},
     "output_type": "execute_result"
    }
   ],
   "source": [
    "df['Total_Current_Balance'].nunique() #current balances on accounts."
   ]
  },
  {
   "cell_type": "code",
   "execution_count": 43,
   "id": "0a2df423-2803-4986-9a40-0111731aa95e",
   "metadata": {},
   "outputs": [
    {
     "data": {
      "text/plain": [
       "37708"
      ]
     },
     "execution_count": 43,
     "metadata": {},
     "output_type": "execute_result"
    }
   ],
   "source": [
    "df['Total_Revolving_Credit_Limit'].nunique() # Total credit limit on revolving accounts"
   ]
  },
  {
   "cell_type": "code",
   "execution_count": 44,
   "id": "4c3dc190-5911-40ff-bc99-73c543b84c20",
   "metadata": {},
   "outputs": [
    {
     "data": {
      "text/plain": [
       "2"
      ]
     },
     "execution_count": 44,
     "metadata": {},
     "output_type": "execute_result"
    }
   ],
   "source": [
    "df['Loan_Status'].nunique() #0 or 1 (DEPENDENT VARIABLE)"
   ]
  },
  {
   "cell_type": "code",
   "execution_count": 45,
   "id": "35772df4-e65c-42a0-b592-3370c2f19f2e",
   "metadata": {},
   "outputs": [
    {
     "data": {
      "text/plain": [
       "Loan_Status\n",
       "0    61222\n",
       "1     6241\n",
       "Name: count, dtype: int64"
      ]
     },
     "execution_count": 45,
     "metadata": {},
     "output_type": "execute_result"
    }
   ],
   "source": [
    "df['Loan_Status'].value_counts() #Checking balance or imbalance data"
   ]
  },
  {
   "cell_type": "markdown",
   "id": "e6cf6733-ffa0-44de-b6a8-06a91291347b",
   "metadata": {},
   "source": [
    "It is imbalance dataset so here I have to use Undersampling method"
   ]
  },
  {
   "cell_type": "markdown",
   "id": "1ae4f17d-6a12-4bee-b94d-43824b9fe487",
   "metadata": {},
   "source": [
    "# Data Cleaning and Wrangling"
   ]
  },
  {
   "cell_type": "code",
   "execution_count": 47,
   "id": "0ba72974-804a-4a21-ad86-c83b39550612",
   "metadata": {},
   "outputs": [],
   "source": [
    "df.rename(columns={'Employment_Duration':'Home_Ownership', 'Home_Ownership':'Employment_Duration'},inplace=True)"
   ]
  },
  {
   "cell_type": "code",
   "execution_count": 48,
   "id": "c1f410b3-8f26-47f7-a758-1311969e8c77",
   "metadata": {},
   "outputs": [],
   "source": [
    "continous = ['Loan_Amount','Funded_Amount','Funded_Amount_Investor','Interest_Rate','Employment_Duration','Debit_to_Income',\n",
    "'Revolving_Balance','Revolving_Utilities','Total_Received_Interest','Total_Received_Late_Fee','Recoveries','Collection_Recovery_Fee',\n",
    "'Total_Collection_Amount', 'Total_Current_Balance','Total_Revolving_Credit_Limit',]\n",
    "\n",
    "count = [ 'Term', 'Delinquency_Two_Years','Inquiries_Six_Months' 'Open_Account', 'Public_Record','Last_Week_Pay']"
   ]
  },
  {
   "cell_type": "code",
   "execution_count": 49,
   "id": "def615c9-1998-4674-9e94-607d9855ac00",
   "metadata": {},
   "outputs": [],
   "source": [
    "df.drop(columns=['ID','Batch_Enrolled', 'Payment_Plan','Loan_Title','Accounts_Delinquent',],inplace=True)"
   ]
  },
  {
   "cell_type": "code",
   "execution_count": 50,
   "id": "bb966136-6dc5-4dcf-933e-aa9c03eeb94a",
   "metadata": {},
   "outputs": [
    {
     "data": {
      "text/html": [
       "<div>\n",
       "<style scoped>\n",
       "    .dataframe tbody tr th:only-of-type {\n",
       "        vertical-align: middle;\n",
       "    }\n",
       "\n",
       "    .dataframe tbody tr th {\n",
       "        vertical-align: top;\n",
       "    }\n",
       "\n",
       "    .dataframe thead th {\n",
       "        text-align: right;\n",
       "    }\n",
       "</style>\n",
       "<table border=\"1\" class=\"dataframe\">\n",
       "  <thead>\n",
       "    <tr style=\"text-align: right;\">\n",
       "      <th></th>\n",
       "      <th>Loan_Amount</th>\n",
       "      <th>Funded_Amount</th>\n",
       "      <th>Funded_Amount_Investor</th>\n",
       "      <th>Interest_Rate</th>\n",
       "      <th>Employment_Duration</th>\n",
       "      <th>Debit_to_Income</th>\n",
       "      <th>Revolving_Balance</th>\n",
       "      <th>Revolving_Utilities</th>\n",
       "      <th>Total_Received_Interest</th>\n",
       "      <th>Total_Received_Late_Fee</th>\n",
       "      <th>Recoveries</th>\n",
       "      <th>Collection_Recovery_Fee</th>\n",
       "      <th>Total_Collection_Amount</th>\n",
       "      <th>Total_Current_Balance</th>\n",
       "      <th>Total_Revolving_Credit_Limit</th>\n",
       "    </tr>\n",
       "  </thead>\n",
       "  <tbody>\n",
       "    <tr>\n",
       "      <th>Loan_Amount</th>\n",
       "      <td>1.000000</td>\n",
       "      <td>-0.000551</td>\n",
       "      <td>0.002831</td>\n",
       "      <td>-0.004888</td>\n",
       "      <td>0.016691</td>\n",
       "      <td>0.007959</td>\n",
       "      <td>-0.001738</td>\n",
       "      <td>0.014828</td>\n",
       "      <td>-0.001887</td>\n",
       "      <td>-0.000034</td>\n",
       "      <td>-0.001606</td>\n",
       "      <td>-0.002142</td>\n",
       "      <td>-0.004135</td>\n",
       "      <td>-0.008285</td>\n",
       "      <td>0.002289</td>\n",
       "    </tr>\n",
       "    <tr>\n",
       "      <th>Funded_Amount</th>\n",
       "      <td>-0.000551</td>\n",
       "      <td>1.000000</td>\n",
       "      <td>0.010227</td>\n",
       "      <td>0.002310</td>\n",
       "      <td>-0.003518</td>\n",
       "      <td>0.002347</td>\n",
       "      <td>-0.004485</td>\n",
       "      <td>0.004460</td>\n",
       "      <td>0.002759</td>\n",
       "      <td>0.001542</td>\n",
       "      <td>0.000462</td>\n",
       "      <td>0.000175</td>\n",
       "      <td>-0.002821</td>\n",
       "      <td>-0.001499</td>\n",
       "      <td>0.006145</td>\n",
       "    </tr>\n",
       "    <tr>\n",
       "      <th>Funded_Amount_Investor</th>\n",
       "      <td>0.002831</td>\n",
       "      <td>0.010227</td>\n",
       "      <td>1.000000</td>\n",
       "      <td>-0.001917</td>\n",
       "      <td>0.001339</td>\n",
       "      <td>0.000112</td>\n",
       "      <td>-0.009102</td>\n",
       "      <td>-0.003027</td>\n",
       "      <td>0.001432</td>\n",
       "      <td>-0.000232</td>\n",
       "      <td>0.000966</td>\n",
       "      <td>-0.007272</td>\n",
       "      <td>0.006862</td>\n",
       "      <td>0.003283</td>\n",
       "      <td>0.005669</td>\n",
       "    </tr>\n",
       "    <tr>\n",
       "      <th>Interest_Rate</th>\n",
       "      <td>-0.004888</td>\n",
       "      <td>0.002310</td>\n",
       "      <td>-0.001917</td>\n",
       "      <td>1.000000</td>\n",
       "      <td>0.005467</td>\n",
       "      <td>-0.011203</td>\n",
       "      <td>0.018999</td>\n",
       "      <td>0.006089</td>\n",
       "      <td>0.006998</td>\n",
       "      <td>0.003119</td>\n",
       "      <td>0.009348</td>\n",
       "      <td>0.001281</td>\n",
       "      <td>0.002771</td>\n",
       "      <td>-0.002567</td>\n",
       "      <td>0.016651</td>\n",
       "    </tr>\n",
       "    <tr>\n",
       "      <th>Employment_Duration</th>\n",
       "      <td>0.016691</td>\n",
       "      <td>-0.003518</td>\n",
       "      <td>0.001339</td>\n",
       "      <td>0.005467</td>\n",
       "      <td>1.000000</td>\n",
       "      <td>0.022781</td>\n",
       "      <td>0.016783</td>\n",
       "      <td>-0.005556</td>\n",
       "      <td>-0.010346</td>\n",
       "      <td>0.004011</td>\n",
       "      <td>0.004399</td>\n",
       "      <td>-0.003821</td>\n",
       "      <td>0.006314</td>\n",
       "      <td>0.007117</td>\n",
       "      <td>0.005008</td>\n",
       "    </tr>\n",
       "    <tr>\n",
       "      <th>Debit_to_Income</th>\n",
       "      <td>0.007959</td>\n",
       "      <td>0.002347</td>\n",
       "      <td>0.000112</td>\n",
       "      <td>-0.011203</td>\n",
       "      <td>0.022781</td>\n",
       "      <td>1.000000</td>\n",
       "      <td>-0.011414</td>\n",
       "      <td>0.003691</td>\n",
       "      <td>0.006504</td>\n",
       "      <td>-0.010224</td>\n",
       "      <td>-0.009693</td>\n",
       "      <td>0.002200</td>\n",
       "      <td>0.001555</td>\n",
       "      <td>-0.011582</td>\n",
       "      <td>-0.007236</td>\n",
       "    </tr>\n",
       "    <tr>\n",
       "      <th>Revolving_Balance</th>\n",
       "      <td>-0.001738</td>\n",
       "      <td>-0.004485</td>\n",
       "      <td>-0.009102</td>\n",
       "      <td>0.018999</td>\n",
       "      <td>0.016783</td>\n",
       "      <td>-0.011414</td>\n",
       "      <td>1.000000</td>\n",
       "      <td>-0.003906</td>\n",
       "      <td>-0.006190</td>\n",
       "      <td>0.004903</td>\n",
       "      <td>0.005056</td>\n",
       "      <td>-0.003939</td>\n",
       "      <td>0.004282</td>\n",
       "      <td>-0.007537</td>\n",
       "      <td>0.023366</td>\n",
       "    </tr>\n",
       "    <tr>\n",
       "      <th>Revolving_Utilities</th>\n",
       "      <td>0.014828</td>\n",
       "      <td>0.004460</td>\n",
       "      <td>-0.003027</td>\n",
       "      <td>0.006089</td>\n",
       "      <td>-0.005556</td>\n",
       "      <td>0.003691</td>\n",
       "      <td>-0.003906</td>\n",
       "      <td>1.000000</td>\n",
       "      <td>0.007607</td>\n",
       "      <td>-0.001363</td>\n",
       "      <td>-0.002381</td>\n",
       "      <td>-0.001952</td>\n",
       "      <td>0.006067</td>\n",
       "      <td>-0.019785</td>\n",
       "      <td>-0.009818</td>\n",
       "    </tr>\n",
       "    <tr>\n",
       "      <th>Total_Received_Interest</th>\n",
       "      <td>-0.001887</td>\n",
       "      <td>0.002759</td>\n",
       "      <td>0.001432</td>\n",
       "      <td>0.006998</td>\n",
       "      <td>-0.010346</td>\n",
       "      <td>0.006504</td>\n",
       "      <td>-0.006190</td>\n",
       "      <td>0.007607</td>\n",
       "      <td>1.000000</td>\n",
       "      <td>0.002507</td>\n",
       "      <td>-0.000717</td>\n",
       "      <td>0.003921</td>\n",
       "      <td>0.001027</td>\n",
       "      <td>0.001374</td>\n",
       "      <td>0.012015</td>\n",
       "    </tr>\n",
       "    <tr>\n",
       "      <th>Total_Received_Late_Fee</th>\n",
       "      <td>-0.000034</td>\n",
       "      <td>0.001542</td>\n",
       "      <td>-0.000232</td>\n",
       "      <td>0.003119</td>\n",
       "      <td>0.004011</td>\n",
       "      <td>-0.010224</td>\n",
       "      <td>0.004903</td>\n",
       "      <td>-0.001363</td>\n",
       "      <td>0.002507</td>\n",
       "      <td>1.000000</td>\n",
       "      <td>0.007992</td>\n",
       "      <td>0.004856</td>\n",
       "      <td>0.007441</td>\n",
       "      <td>-0.000526</td>\n",
       "      <td>0.014839</td>\n",
       "    </tr>\n",
       "    <tr>\n",
       "      <th>Recoveries</th>\n",
       "      <td>-0.001606</td>\n",
       "      <td>0.000462</td>\n",
       "      <td>0.000966</td>\n",
       "      <td>0.009348</td>\n",
       "      <td>0.004399</td>\n",
       "      <td>-0.009693</td>\n",
       "      <td>0.005056</td>\n",
       "      <td>-0.002381</td>\n",
       "      <td>-0.000717</td>\n",
       "      <td>0.007992</td>\n",
       "      <td>1.000000</td>\n",
       "      <td>0.008328</td>\n",
       "      <td>0.004703</td>\n",
       "      <td>-0.000488</td>\n",
       "      <td>-0.000146</td>\n",
       "    </tr>\n",
       "    <tr>\n",
       "      <th>Collection_Recovery_Fee</th>\n",
       "      <td>-0.002142</td>\n",
       "      <td>0.000175</td>\n",
       "      <td>-0.007272</td>\n",
       "      <td>0.001281</td>\n",
       "      <td>-0.003821</td>\n",
       "      <td>0.002200</td>\n",
       "      <td>-0.003939</td>\n",
       "      <td>-0.001952</td>\n",
       "      <td>0.003921</td>\n",
       "      <td>0.004856</td>\n",
       "      <td>0.008328</td>\n",
       "      <td>1.000000</td>\n",
       "      <td>0.001800</td>\n",
       "      <td>0.002851</td>\n",
       "      <td>-0.000208</td>\n",
       "    </tr>\n",
       "    <tr>\n",
       "      <th>Total_Collection_Amount</th>\n",
       "      <td>-0.004135</td>\n",
       "      <td>-0.002821</td>\n",
       "      <td>0.006862</td>\n",
       "      <td>0.002771</td>\n",
       "      <td>0.006314</td>\n",
       "      <td>0.001555</td>\n",
       "      <td>0.004282</td>\n",
       "      <td>0.006067</td>\n",
       "      <td>0.001027</td>\n",
       "      <td>0.007441</td>\n",
       "      <td>0.004703</td>\n",
       "      <td>0.001800</td>\n",
       "      <td>1.000000</td>\n",
       "      <td>0.005318</td>\n",
       "      <td>0.006541</td>\n",
       "    </tr>\n",
       "    <tr>\n",
       "      <th>Total_Current_Balance</th>\n",
       "      <td>-0.008285</td>\n",
       "      <td>-0.001499</td>\n",
       "      <td>0.003283</td>\n",
       "      <td>-0.002567</td>\n",
       "      <td>0.007117</td>\n",
       "      <td>-0.011582</td>\n",
       "      <td>-0.007537</td>\n",
       "      <td>-0.019785</td>\n",
       "      <td>0.001374</td>\n",
       "      <td>-0.000526</td>\n",
       "      <td>-0.000488</td>\n",
       "      <td>0.002851</td>\n",
       "      <td>0.005318</td>\n",
       "      <td>1.000000</td>\n",
       "      <td>0.004865</td>\n",
       "    </tr>\n",
       "    <tr>\n",
       "      <th>Total_Revolving_Credit_Limit</th>\n",
       "      <td>0.002289</td>\n",
       "      <td>0.006145</td>\n",
       "      <td>0.005669</td>\n",
       "      <td>0.016651</td>\n",
       "      <td>0.005008</td>\n",
       "      <td>-0.007236</td>\n",
       "      <td>0.023366</td>\n",
       "      <td>-0.009818</td>\n",
       "      <td>0.012015</td>\n",
       "      <td>0.014839</td>\n",
       "      <td>-0.000146</td>\n",
       "      <td>-0.000208</td>\n",
       "      <td>0.006541</td>\n",
       "      <td>0.004865</td>\n",
       "      <td>1.000000</td>\n",
       "    </tr>\n",
       "  </tbody>\n",
       "</table>\n",
       "</div>"
      ],
      "text/plain": [
       "                              Loan_Amount  Funded_Amount  \\\n",
       "Loan_Amount                      1.000000      -0.000551   \n",
       "Funded_Amount                   -0.000551       1.000000   \n",
       "Funded_Amount_Investor           0.002831       0.010227   \n",
       "Interest_Rate                   -0.004888       0.002310   \n",
       "Employment_Duration              0.016691      -0.003518   \n",
       "Debit_to_Income                  0.007959       0.002347   \n",
       "Revolving_Balance               -0.001738      -0.004485   \n",
       "Revolving_Utilities              0.014828       0.004460   \n",
       "Total_Received_Interest         -0.001887       0.002759   \n",
       "Total_Received_Late_Fee         -0.000034       0.001542   \n",
       "Recoveries                      -0.001606       0.000462   \n",
       "Collection_Recovery_Fee         -0.002142       0.000175   \n",
       "Total_Collection_Amount         -0.004135      -0.002821   \n",
       "Total_Current_Balance           -0.008285      -0.001499   \n",
       "Total_Revolving_Credit_Limit     0.002289       0.006145   \n",
       "\n",
       "                              Funded_Amount_Investor  Interest_Rate  \\\n",
       "Loan_Amount                                 0.002831      -0.004888   \n",
       "Funded_Amount                               0.010227       0.002310   \n",
       "Funded_Amount_Investor                      1.000000      -0.001917   \n",
       "Interest_Rate                              -0.001917       1.000000   \n",
       "Employment_Duration                         0.001339       0.005467   \n",
       "Debit_to_Income                             0.000112      -0.011203   \n",
       "Revolving_Balance                          -0.009102       0.018999   \n",
       "Revolving_Utilities                        -0.003027       0.006089   \n",
       "Total_Received_Interest                     0.001432       0.006998   \n",
       "Total_Received_Late_Fee                    -0.000232       0.003119   \n",
       "Recoveries                                  0.000966       0.009348   \n",
       "Collection_Recovery_Fee                    -0.007272       0.001281   \n",
       "Total_Collection_Amount                     0.006862       0.002771   \n",
       "Total_Current_Balance                       0.003283      -0.002567   \n",
       "Total_Revolving_Credit_Limit                0.005669       0.016651   \n",
       "\n",
       "                              Employment_Duration  Debit_to_Income  \\\n",
       "Loan_Amount                              0.016691         0.007959   \n",
       "Funded_Amount                           -0.003518         0.002347   \n",
       "Funded_Amount_Investor                   0.001339         0.000112   \n",
       "Interest_Rate                            0.005467        -0.011203   \n",
       "Employment_Duration                      1.000000         0.022781   \n",
       "Debit_to_Income                          0.022781         1.000000   \n",
       "Revolving_Balance                        0.016783        -0.011414   \n",
       "Revolving_Utilities                     -0.005556         0.003691   \n",
       "Total_Received_Interest                 -0.010346         0.006504   \n",
       "Total_Received_Late_Fee                  0.004011        -0.010224   \n",
       "Recoveries                               0.004399        -0.009693   \n",
       "Collection_Recovery_Fee                 -0.003821         0.002200   \n",
       "Total_Collection_Amount                  0.006314         0.001555   \n",
       "Total_Current_Balance                    0.007117        -0.011582   \n",
       "Total_Revolving_Credit_Limit             0.005008        -0.007236   \n",
       "\n",
       "                              Revolving_Balance  Revolving_Utilities  \\\n",
       "Loan_Amount                           -0.001738             0.014828   \n",
       "Funded_Amount                         -0.004485             0.004460   \n",
       "Funded_Amount_Investor                -0.009102            -0.003027   \n",
       "Interest_Rate                          0.018999             0.006089   \n",
       "Employment_Duration                    0.016783            -0.005556   \n",
       "Debit_to_Income                       -0.011414             0.003691   \n",
       "Revolving_Balance                      1.000000            -0.003906   \n",
       "Revolving_Utilities                   -0.003906             1.000000   \n",
       "Total_Received_Interest               -0.006190             0.007607   \n",
       "Total_Received_Late_Fee                0.004903            -0.001363   \n",
       "Recoveries                             0.005056            -0.002381   \n",
       "Collection_Recovery_Fee               -0.003939            -0.001952   \n",
       "Total_Collection_Amount                0.004282             0.006067   \n",
       "Total_Current_Balance                 -0.007537            -0.019785   \n",
       "Total_Revolving_Credit_Limit           0.023366            -0.009818   \n",
       "\n",
       "                              Total_Received_Interest  \\\n",
       "Loan_Amount                                 -0.001887   \n",
       "Funded_Amount                                0.002759   \n",
       "Funded_Amount_Investor                       0.001432   \n",
       "Interest_Rate                                0.006998   \n",
       "Employment_Duration                         -0.010346   \n",
       "Debit_to_Income                              0.006504   \n",
       "Revolving_Balance                           -0.006190   \n",
       "Revolving_Utilities                          0.007607   \n",
       "Total_Received_Interest                      1.000000   \n",
       "Total_Received_Late_Fee                      0.002507   \n",
       "Recoveries                                  -0.000717   \n",
       "Collection_Recovery_Fee                      0.003921   \n",
       "Total_Collection_Amount                      0.001027   \n",
       "Total_Current_Balance                        0.001374   \n",
       "Total_Revolving_Credit_Limit                 0.012015   \n",
       "\n",
       "                              Total_Received_Late_Fee  Recoveries  \\\n",
       "Loan_Amount                                 -0.000034   -0.001606   \n",
       "Funded_Amount                                0.001542    0.000462   \n",
       "Funded_Amount_Investor                      -0.000232    0.000966   \n",
       "Interest_Rate                                0.003119    0.009348   \n",
       "Employment_Duration                          0.004011    0.004399   \n",
       "Debit_to_Income                             -0.010224   -0.009693   \n",
       "Revolving_Balance                            0.004903    0.005056   \n",
       "Revolving_Utilities                         -0.001363   -0.002381   \n",
       "Total_Received_Interest                      0.002507   -0.000717   \n",
       "Total_Received_Late_Fee                      1.000000    0.007992   \n",
       "Recoveries                                   0.007992    1.000000   \n",
       "Collection_Recovery_Fee                      0.004856    0.008328   \n",
       "Total_Collection_Amount                      0.007441    0.004703   \n",
       "Total_Current_Balance                       -0.000526   -0.000488   \n",
       "Total_Revolving_Credit_Limit                 0.014839   -0.000146   \n",
       "\n",
       "                              Collection_Recovery_Fee  \\\n",
       "Loan_Amount                                 -0.002142   \n",
       "Funded_Amount                                0.000175   \n",
       "Funded_Amount_Investor                      -0.007272   \n",
       "Interest_Rate                                0.001281   \n",
       "Employment_Duration                         -0.003821   \n",
       "Debit_to_Income                              0.002200   \n",
       "Revolving_Balance                           -0.003939   \n",
       "Revolving_Utilities                         -0.001952   \n",
       "Total_Received_Interest                      0.003921   \n",
       "Total_Received_Late_Fee                      0.004856   \n",
       "Recoveries                                   0.008328   \n",
       "Collection_Recovery_Fee                      1.000000   \n",
       "Total_Collection_Amount                      0.001800   \n",
       "Total_Current_Balance                        0.002851   \n",
       "Total_Revolving_Credit_Limit                -0.000208   \n",
       "\n",
       "                              Total_Collection_Amount  Total_Current_Balance  \\\n",
       "Loan_Amount                                 -0.004135              -0.008285   \n",
       "Funded_Amount                               -0.002821              -0.001499   \n",
       "Funded_Amount_Investor                       0.006862               0.003283   \n",
       "Interest_Rate                                0.002771              -0.002567   \n",
       "Employment_Duration                          0.006314               0.007117   \n",
       "Debit_to_Income                              0.001555              -0.011582   \n",
       "Revolving_Balance                            0.004282              -0.007537   \n",
       "Revolving_Utilities                          0.006067              -0.019785   \n",
       "Total_Received_Interest                      0.001027               0.001374   \n",
       "Total_Received_Late_Fee                      0.007441              -0.000526   \n",
       "Recoveries                                   0.004703              -0.000488   \n",
       "Collection_Recovery_Fee                      0.001800               0.002851   \n",
       "Total_Collection_Amount                      1.000000               0.005318   \n",
       "Total_Current_Balance                        0.005318               1.000000   \n",
       "Total_Revolving_Credit_Limit                 0.006541               0.004865   \n",
       "\n",
       "                              Total_Revolving_Credit_Limit  \n",
       "Loan_Amount                                       0.002289  \n",
       "Funded_Amount                                     0.006145  \n",
       "Funded_Amount_Investor                            0.005669  \n",
       "Interest_Rate                                     0.016651  \n",
       "Employment_Duration                               0.005008  \n",
       "Debit_to_Income                                  -0.007236  \n",
       "Revolving_Balance                                 0.023366  \n",
       "Revolving_Utilities                              -0.009818  \n",
       "Total_Received_Interest                           0.012015  \n",
       "Total_Received_Late_Fee                           0.014839  \n",
       "Recoveries                                       -0.000146  \n",
       "Collection_Recovery_Fee                          -0.000208  \n",
       "Total_Collection_Amount                           0.006541  \n",
       "Total_Current_Balance                             0.004865  \n",
       "Total_Revolving_Credit_Limit                      1.000000  "
      ]
     },
     "execution_count": 50,
     "metadata": {},
     "output_type": "execute_result"
    }
   ],
   "source": [
    "df[continous].corr()"
   ]
  },
  {
   "cell_type": "markdown",
   "id": "b2660821-c639-4e03-ae11-db6ec077a256",
   "metadata": {},
   "source": [
    "**Checking Skewness and Data Transformantion**"
   ]
  },
  {
   "cell_type": "code",
   "execution_count": 52,
   "id": "e4824528-0c98-4fe7-942b-18cfc01adbce",
   "metadata": {},
   "outputs": [
    {
     "data": {
      "text/plain": [
       "Loan_Amount                      0.288083\n",
       "Funded_Amount                    0.672633\n",
       "Funded_Amount_Investor           0.990139\n",
       "Interest_Rate                    0.563383\n",
       "Employment_Duration              2.130488\n",
       "Debit_to_Income                  0.080967\n",
       "Revolving_Balance                2.951135\n",
       "Revolving_Utilities             -0.237245\n",
       "Total_Received_Interest          2.135243\n",
       "Total_Received_Late_Fee          5.084511\n",
       "Recoveries                       7.371787\n",
       "Collection_Recovery_Fee         11.102131\n",
       "Total_Collection_Amount         12.910972\n",
       "Total_Current_Balance            1.511578\n",
       "Total_Revolving_Credit_Limit     1.977150\n",
       "dtype: float64"
      ]
     },
     "execution_count": 52,
     "metadata": {},
     "output_type": "execute_result"
    }
   ],
   "source": [
    "df[continous].skew()"
   ]
  },
  {
   "cell_type": "code",
   "execution_count": 53,
   "id": "78e1ebea-1da6-41df-ad66-27b01a26a95f",
   "metadata": {},
   "outputs": [],
   "source": [
    "df['Employment_Duration'] = np.log(df['Employment_Duration'] )"
   ]
  },
  {
   "cell_type": "code",
   "execution_count": 54,
   "id": "b09af118-176b-4d5a-a014-eb0eb41c2d0f",
   "metadata": {},
   "outputs": [],
   "source": [
    "df['Revolving_Balance'] = df['Revolving_Balance']**(1/4)"
   ]
  },
  {
   "cell_type": "code",
   "execution_count": 55,
   "id": "ed6a388a-2622-4c75-90de-35f7acbdaa17",
   "metadata": {},
   "outputs": [],
   "source": [
    "df['Total_Received_Interest'] = np.log(df['Total_Received_Interest'] )"
   ]
  },
  {
   "cell_type": "code",
   "execution_count": 56,
   "id": "4aaaa615-146f-4da0-b52f-ddaff0d1bc40",
   "metadata": {},
   "outputs": [],
   "source": [
    "df['Total_Received_Late_Fee'],p = stats.boxcox(df['Total_Received_Late_Fee']+0.001)"
   ]
  },
  {
   "cell_type": "code",
   "execution_count": 57,
   "id": "fa36b718-63a9-4ec8-9a6b-625943687ede",
   "metadata": {},
   "outputs": [],
   "source": [
    "df['Recoveries'],p = stats.boxcox(df['Recoveries']+0.001)"
   ]
  },
  {
   "cell_type": "code",
   "execution_count": 58,
   "id": "7ac82460-29a0-41d7-88ee-c12e4498a5d6",
   "metadata": {},
   "outputs": [],
   "source": [
    "df['Collection_Recovery_Fee'] = np.log(df['Collection_Recovery_Fee'])"
   ]
  },
  {
   "cell_type": "code",
   "execution_count": 59,
   "id": "2ff29a55-3f1f-441c-90c3-fb8640eec916",
   "metadata": {},
   "outputs": [],
   "source": [
    "df['Total_Collection_Amount'],p = stats.boxcox(df['Total_Collection_Amount']+0.001)"
   ]
  },
  {
   "cell_type": "code",
   "execution_count": 60,
   "id": "20fe3e5e-bd98-4ed2-9091-fda24ea7b895",
   "metadata": {},
   "outputs": [],
   "source": [
    "df['Total_Current_Balance'] = np.log(df['Total_Current_Balance'])"
   ]
  },
  {
   "cell_type": "code",
   "execution_count": 61,
   "id": "ce69e007-0ff9-4de0-8180-3a3a3e7c4064",
   "metadata": {},
   "outputs": [],
   "source": [
    "df['Total_Revolving_Credit_Limit'] = np.log(df['Total_Revolving_Credit_Limit'])"
   ]
  },
  {
   "cell_type": "code",
   "execution_count": 62,
   "id": "3f3fccd3-6576-4673-aa8e-a4a635895f4a",
   "metadata": {},
   "outputs": [
    {
     "data": {
      "text/plain": [
       "Loan_Amount                     0.288083\n",
       "Funded_Amount                   0.672633\n",
       "Funded_Amount_Investor          0.990139\n",
       "Interest_Rate                   0.563383\n",
       "Employment_Duration             0.282724\n",
       "Debit_to_Income                 0.080967\n",
       "Revolving_Balance              -0.026619\n",
       "Revolving_Utilities            -0.237245\n",
       "Total_Received_Interest        -0.597668\n",
       "Total_Received_Late_Fee        -0.247645\n",
       "Recoveries                     -0.285227\n",
       "Collection_Recovery_Fee        -0.878965\n",
       "Total_Collection_Amount        -0.320255\n",
       "Total_Current_Balance          -0.591227\n",
       "Total_Revolving_Credit_Limit   -0.371911\n",
       "dtype: float64"
      ]
     },
     "execution_count": 62,
     "metadata": {},
     "output_type": "execute_result"
    }
   ],
   "source": [
    "df[continous].skew()"
   ]
  },
  {
   "cell_type": "markdown",
   "id": "15c68f9e-8b1b-4a9b-bd49-095ec2ba20b5",
   "metadata": {},
   "source": [
    "**Data Scaling**"
   ]
  },
  {
   "cell_type": "code",
   "execution_count": 64,
   "id": "b5329b9d-de3c-4c54-bc41-8d1256298178",
   "metadata": {},
   "outputs": [],
   "source": [
    "from sklearn.preprocessing import StandardScaler\n",
    "sc = StandardScaler()\n",
    "df[continous] = sc.fit_transform(df[continous])"
   ]
  },
  {
   "cell_type": "markdown",
   "id": "5728f0cd-3d4f-43dd-ae31-144b087f71ea",
   "metadata": {},
   "source": [
    "**Data Encoding**"
   ]
  },
  {
   "cell_type": "code",
   "execution_count": 66,
   "id": "a28485ae-6ca9-4523-88fc-282ee58f3ad2",
   "metadata": {},
   "outputs": [],
   "source": [
    "from sklearn.preprocessing import OrdinalEncoder\n",
    "encoder = OrdinalEncoder(categories=[['A','B','C','D','E','F','G']])\n",
    "df['Grade'] = encoder.fit_transform(df[['Grade']])"
   ]
  },
  {
   "cell_type": "code",
   "execution_count": 67,
   "id": "c4b7044c-28e5-41de-a781-ede94931a115",
   "metadata": {},
   "outputs": [],
   "source": [
    "from sklearn.preprocessing import OrdinalEncoder\n",
    "encoder = OrdinalEncoder(categories=[['A1', 'A2', 'A3', 'A4', 'A5', 'B1', 'B2', 'B3', 'B4', 'B5', 'C1', 'C2', 'C3', \n",
    "                                      'C4', 'C5', 'D1', 'D2', 'D3', 'D4', 'D5', 'E1', 'E2', 'E3', 'E4', 'E5', 'F1', \n",
    "                                      'F2', 'F3', 'F4', 'F5', 'G1', 'G2', 'G3', 'G4', 'G5']])\n",
    "df['Sub_Grade'] = encoder.fit_transform(df[['Sub_Grade']])"
   ]
  },
  {
   "cell_type": "code",
   "execution_count": 68,
   "id": "8826c36d-991c-4558-9775-d9bd8533aa51",
   "metadata": {},
   "outputs": [],
   "source": [
    "df['Application_Type'] = df['Application_Type'].replace({'INDIVIDUAL':0,'JOINT':1})"
   ]
  },
  {
   "cell_type": "code",
   "execution_count": 69,
   "id": "176700bc-9a3e-46b1-a274-63a8ba12794b",
   "metadata": {},
   "outputs": [],
   "source": [
    "df['Verification_Status'] = df['Verification_Status'].replace({'Not Verified':0,'Source Verified':1,'Verified':2})"
   ]
  },
  {
   "cell_type": "code",
   "execution_count": 70,
   "id": "5f4a975a-7674-4cfc-bd74-f22352332be5",
   "metadata": {},
   "outputs": [],
   "source": [
    "df['Home_Ownership'] = df['Home_Ownership'].replace({'MORTGAGE':0,'RENT':1,'OWN':2})"
   ]
  },
  {
   "cell_type": "code",
   "execution_count": 71,
   "id": "f4e4f94f-ab82-4223-a7af-5bfa8075f0e8",
   "metadata": {},
   "outputs": [],
   "source": [
    "df['Initial_List_Status'] = df['Initial_List_Status'].replace({'f':0,'w':1})"
   ]
  },
  {
   "cell_type": "code",
   "execution_count": 142,
   "id": "37a63137-dfed-4dca-a1ea-21ba237cdc68",
   "metadata": {},
   "outputs": [],
   "source": [
    "df.to_csv('cleaned_data',index= False)"
   ]
  },
  {
   "cell_type": "code",
   "execution_count": null,
   "id": "5057841e-4e13-47f2-ab6c-d31ae8feb297",
   "metadata": {},
   "outputs": [],
   "source": []
  }
 ],
 "metadata": {
  "kernelspec": {
   "display_name": "Python [conda env:base] *",
   "language": "python",
   "name": "conda-base-py"
  },
  "language_info": {
   "codemirror_mode": {
    "name": "ipython",
    "version": 3
   },
   "file_extension": ".py",
   "mimetype": "text/x-python",
   "name": "python",
   "nbconvert_exporter": "python",
   "pygments_lexer": "ipython3",
   "version": "3.12.7"
  }
 },
 "nbformat": 4,
 "nbformat_minor": 5
}
